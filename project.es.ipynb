{
  "cells": [
    {
      "attachments": {},
      "cell_type": "markdown",
      "id": "innocent-university",
      "metadata": {},
      "source": [
        "# Limpieza de bienes raíces\n",
        "\n",
        "Este es un conjunto de datos (dataset) reales que fue descargado usando técnicas de web scraping. La data contiene registros de **Fotocasa**, el cual es uno de los sitios más populares de bienes raíces en España. Por favor no hagas esto (web scraping) a no ser que sea para propósitos académicos.\n",
        "\n",
        "El dataset fue descargado hace algunos años por Henry Navarro y en ningún caso se obtuvo beneficio económico de ello.\n",
        "\n",
        "Contiene miles de datos de casas reales publicadas en la web www.fotocasa.com. Tu objetivo es extraer tanta información como sea posible con el conocimiento que tienes hasta ahora de ciencia de datos, por ejemplo ¿cuál es la casa más cara en todo el dataset?\n",
        "\n",
        "Empecemos precisamente con esa pregunta... ¡Buena suerte!"
      ]
    },
    {
      "attachments": {},
      "cell_type": "markdown",
      "id": "multiple-glass",
      "metadata": {},
      "source": [
        "#### Ejercicio 00. Lee el dataset assets/real_estate.csv e intenta visualizar la tabla (★☆☆)"
      ]
    },
    {
      "cell_type": "code",
      "execution_count": null,
      "id": "frank-heath",
      "metadata": {},
      "outputs": [
        {
          "data": {
            "text/html": [
              "<div>\n",
              "<style scoped>\n",
              "    .dataframe tbody tr th:only-of-type {\n",
              "        vertical-align: middle;\n",
              "    }\n",
              "\n",
              "    .dataframe tbody tr th {\n",
              "        vertical-align: top;\n",
              "    }\n",
              "\n",
              "    .dataframe thead th {\n",
              "        text-align: right;\n",
              "    }\n",
              "</style>\n",
              "<table border=\"1\" class=\"dataframe\">\n",
              "  <thead>\n",
              "    <tr style=\"text-align: right;\">\n",
              "      <th></th>\n",
              "      <th>Unnamed: 0</th>\n",
              "      <th>id_realEstates</th>\n",
              "      <th>isNew</th>\n",
              "      <th>realEstate_name</th>\n",
              "      <th>phone_realEstate</th>\n",
              "      <th>url_inmueble</th>\n",
              "      <th>rooms</th>\n",
              "      <th>bathrooms</th>\n",
              "      <th>surface</th>\n",
              "      <th>price</th>\n",
              "      <th>...</th>\n",
              "      <th>level4Id</th>\n",
              "      <th>level5Id</th>\n",
              "      <th>level6Id</th>\n",
              "      <th>level7Id</th>\n",
              "      <th>level8Id</th>\n",
              "      <th>accuracy</th>\n",
              "      <th>latitude</th>\n",
              "      <th>longitude</th>\n",
              "      <th>zipCode</th>\n",
              "      <th>customZone</th>\n",
              "    </tr>\n",
              "  </thead>\n",
              "  <tbody>\n",
              "    <tr>\n",
              "      <th>0</th>\n",
              "      <td>1</td>\n",
              "      <td>153771986</td>\n",
              "      <td>False</td>\n",
              "      <td>ferrari 57 inmobiliaria</td>\n",
              "      <td>912177526.0</td>\n",
              "      <td>https://www.fotocasa.es/es/comprar/vivienda/ma...</td>\n",
              "      <td>3.0</td>\n",
              "      <td>2.0</td>\n",
              "      <td>103.0</td>\n",
              "      <td>195000</td>\n",
              "      <td>...</td>\n",
              "      <td>0</td>\n",
              "      <td>0</td>\n",
              "      <td>0</td>\n",
              "      <td>0</td>\n",
              "      <td>0</td>\n",
              "      <td>0</td>\n",
              "      <td>40,2948276786438</td>\n",
              "      <td>-3,44402412135624</td>\n",
              "      <td>NaN</td>\n",
              "      <td>NaN</td>\n",
              "    </tr>\n",
              "    <tr>\n",
              "      <th>1</th>\n",
              "      <td>2</td>\n",
              "      <td>153867863</td>\n",
              "      <td>False</td>\n",
              "      <td>tecnocasa fuenlabrada ferrocarril</td>\n",
              "      <td>916358736.0</td>\n",
              "      <td>https://www.fotocasa.es/es/comprar/vivienda/ma...</td>\n",
              "      <td>3.0</td>\n",
              "      <td>1.0</td>\n",
              "      <td>NaN</td>\n",
              "      <td>89000</td>\n",
              "      <td>...</td>\n",
              "      <td>0</td>\n",
              "      <td>0</td>\n",
              "      <td>0</td>\n",
              "      <td>0</td>\n",
              "      <td>0</td>\n",
              "      <td>1</td>\n",
              "      <td>40,28674</td>\n",
              "      <td>-3,79351</td>\n",
              "      <td>NaN</td>\n",
              "      <td>NaN</td>\n",
              "    </tr>\n",
              "    <tr>\n",
              "      <th>2</th>\n",
              "      <td>3</td>\n",
              "      <td>153430440</td>\n",
              "      <td>False</td>\n",
              "      <td>look find boadilla</td>\n",
              "      <td>916350408.0</td>\n",
              "      <td>https://www.fotocasa.es/es/comprar/vivienda/ma...</td>\n",
              "      <td>2.0</td>\n",
              "      <td>2.0</td>\n",
              "      <td>99.0</td>\n",
              "      <td>390000</td>\n",
              "      <td>...</td>\n",
              "      <td>0</td>\n",
              "      <td>0</td>\n",
              "      <td>0</td>\n",
              "      <td>0</td>\n",
              "      <td>0</td>\n",
              "      <td>0</td>\n",
              "      <td>40,4115646786438</td>\n",
              "      <td>-3,90662252135624</td>\n",
              "      <td>NaN</td>\n",
              "      <td>NaN</td>\n",
              "    </tr>\n",
              "    <tr>\n",
              "      <th>3</th>\n",
              "      <td>4</td>\n",
              "      <td>152776331</td>\n",
              "      <td>False</td>\n",
              "      <td>tecnocasa fuenlabrada ferrocarril</td>\n",
              "      <td>916358736.0</td>\n",
              "      <td>https://www.fotocasa.es/es/comprar/vivienda/ma...</td>\n",
              "      <td>3.0</td>\n",
              "      <td>1.0</td>\n",
              "      <td>86.0</td>\n",
              "      <td>89000</td>\n",
              "      <td>...</td>\n",
              "      <td>0</td>\n",
              "      <td>0</td>\n",
              "      <td>0</td>\n",
              "      <td>0</td>\n",
              "      <td>0</td>\n",
              "      <td>0</td>\n",
              "      <td>40,2853785786438</td>\n",
              "      <td>-3,79508142135624</td>\n",
              "      <td>NaN</td>\n",
              "      <td>NaN</td>\n",
              "    </tr>\n",
              "    <tr>\n",
              "      <th>4</th>\n",
              "      <td>5</td>\n",
              "      <td>153180188</td>\n",
              "      <td>False</td>\n",
              "      <td>ferrari 57 inmobiliaria</td>\n",
              "      <td>912177526.0</td>\n",
              "      <td>https://www.fotocasa.es/es/comprar/vivienda/ma...</td>\n",
              "      <td>2.0</td>\n",
              "      <td>2.0</td>\n",
              "      <td>106.0</td>\n",
              "      <td>172000</td>\n",
              "      <td>...</td>\n",
              "      <td>0</td>\n",
              "      <td>0</td>\n",
              "      <td>0</td>\n",
              "      <td>0</td>\n",
              "      <td>0</td>\n",
              "      <td>0</td>\n",
              "      <td>40,2998774864376</td>\n",
              "      <td>-3,45226301356237</td>\n",
              "      <td>NaN</td>\n",
              "      <td>NaN</td>\n",
              "    </tr>\n",
              "    <tr>\n",
              "      <th>...</th>\n",
              "      <td>...</td>\n",
              "      <td>...</td>\n",
              "      <td>...</td>\n",
              "      <td>...</td>\n",
              "      <td>...</td>\n",
              "      <td>...</td>\n",
              "      <td>...</td>\n",
              "      <td>...</td>\n",
              "      <td>...</td>\n",
              "      <td>...</td>\n",
              "      <td>...</td>\n",
              "      <td>...</td>\n",
              "      <td>...</td>\n",
              "      <td>...</td>\n",
              "      <td>...</td>\n",
              "      <td>...</td>\n",
              "      <td>...</td>\n",
              "      <td>...</td>\n",
              "      <td>...</td>\n",
              "      <td>...</td>\n",
              "      <td>...</td>\n",
              "    </tr>\n",
              "    <tr>\n",
              "      <th>15330</th>\n",
              "      <td>15331</td>\n",
              "      <td>153901377</td>\n",
              "      <td>False</td>\n",
              "      <td>infocasa consulting</td>\n",
              "      <td>911360461.0</td>\n",
              "      <td>https://www.fotocasa.es/es/comprar/vivienda/ma...</td>\n",
              "      <td>2.0</td>\n",
              "      <td>1.0</td>\n",
              "      <td>96.0</td>\n",
              "      <td>259470</td>\n",
              "      <td>...</td>\n",
              "      <td>0</td>\n",
              "      <td>0</td>\n",
              "      <td>0</td>\n",
              "      <td>0</td>\n",
              "      <td>0</td>\n",
              "      <td>0</td>\n",
              "      <td>40,45416</td>\n",
              "      <td>-3,70286</td>\n",
              "      <td>NaN</td>\n",
              "      <td>NaN</td>\n",
              "    </tr>\n",
              "    <tr>\n",
              "      <th>15331</th>\n",
              "      <td>15332</td>\n",
              "      <td>150394373</td>\n",
              "      <td>False</td>\n",
              "      <td>inmobiliaria pulpon</td>\n",
              "      <td>912788039.0</td>\n",
              "      <td>https://www.fotocasa.es/es/comprar/vivienda/ma...</td>\n",
              "      <td>3.0</td>\n",
              "      <td>1.0</td>\n",
              "      <td>150.0</td>\n",
              "      <td>165000</td>\n",
              "      <td>...</td>\n",
              "      <td>0</td>\n",
              "      <td>0</td>\n",
              "      <td>0</td>\n",
              "      <td>0</td>\n",
              "      <td>0</td>\n",
              "      <td>0</td>\n",
              "      <td>40,36652</td>\n",
              "      <td>-3,48951</td>\n",
              "      <td>NaN</td>\n",
              "      <td>NaN</td>\n",
              "    </tr>\n",
              "    <tr>\n",
              "      <th>15332</th>\n",
              "      <td>15333</td>\n",
              "      <td>153901397</td>\n",
              "      <td>False</td>\n",
              "      <td>tecnocasa torrelodones</td>\n",
              "      <td>912780348.0</td>\n",
              "      <td>https://www.fotocasa.es/es/comprar/vivienda/ma...</td>\n",
              "      <td>4.0</td>\n",
              "      <td>2.0</td>\n",
              "      <td>175.0</td>\n",
              "      <td>495000</td>\n",
              "      <td>...</td>\n",
              "      <td>0</td>\n",
              "      <td>0</td>\n",
              "      <td>0</td>\n",
              "      <td>0</td>\n",
              "      <td>0</td>\n",
              "      <td>0</td>\n",
              "      <td>40,57444</td>\n",
              "      <td>-3,92124</td>\n",
              "      <td>NaN</td>\n",
              "      <td>NaN</td>\n",
              "    </tr>\n",
              "    <tr>\n",
              "      <th>15333</th>\n",
              "      <td>15334</td>\n",
              "      <td>152607440</td>\n",
              "      <td>False</td>\n",
              "      <td>inmobiliaria pulpon</td>\n",
              "      <td>912788039.0</td>\n",
              "      <td>https://www.fotocasa.es/es/comprar/vivienda/ma...</td>\n",
              "      <td>3.0</td>\n",
              "      <td>2.0</td>\n",
              "      <td>101.0</td>\n",
              "      <td>195000</td>\n",
              "      <td>...</td>\n",
              "      <td>0</td>\n",
              "      <td>0</td>\n",
              "      <td>0</td>\n",
              "      <td>0</td>\n",
              "      <td>0</td>\n",
              "      <td>0</td>\n",
              "      <td>40,36967</td>\n",
              "      <td>-3,48105</td>\n",
              "      <td>NaN</td>\n",
              "      <td>NaN</td>\n",
              "    </tr>\n",
              "    <tr>\n",
              "      <th>15334</th>\n",
              "      <td>15335</td>\n",
              "      <td>153901356</td>\n",
              "      <td>False</td>\n",
              "      <td>infocasa consulting</td>\n",
              "      <td>911360461.0</td>\n",
              "      <td>https://www.fotocasa.es/es/comprar/vivienda/ma...</td>\n",
              "      <td>3.0</td>\n",
              "      <td>2.0</td>\n",
              "      <td>152.0</td>\n",
              "      <td>765000</td>\n",
              "      <td>...</td>\n",
              "      <td>0</td>\n",
              "      <td>0</td>\n",
              "      <td>0</td>\n",
              "      <td>0</td>\n",
              "      <td>0</td>\n",
              "      <td>0</td>\n",
              "      <td>40,45773</td>\n",
              "      <td>-3,69068</td>\n",
              "      <td>NaN</td>\n",
              "      <td>NaN</td>\n",
              "    </tr>\n",
              "  </tbody>\n",
              "</table>\n",
              "<p>15335 rows × 37 columns</p>\n",
              "</div>"
            ],
            "text/plain": [
              "       Unnamed: 0  id_realEstates  isNew                    realEstate_name  \\\n",
              "0               1       153771986  False            ferrari 57 inmobiliaria   \n",
              "1               2       153867863  False  tecnocasa fuenlabrada ferrocarril   \n",
              "2               3       153430440  False                 look find boadilla   \n",
              "3               4       152776331  False  tecnocasa fuenlabrada ferrocarril   \n",
              "4               5       153180188  False            ferrari 57 inmobiliaria   \n",
              "...           ...             ...    ...                                ...   \n",
              "15330       15331       153901377  False                infocasa consulting   \n",
              "15331       15332       150394373  False                inmobiliaria pulpon   \n",
              "15332       15333       153901397  False             tecnocasa torrelodones   \n",
              "15333       15334       152607440  False                inmobiliaria pulpon   \n",
              "15334       15335       153901356  False                infocasa consulting   \n",
              "\n",
              "       phone_realEstate                                       url_inmueble  \\\n",
              "0           912177526.0  https://www.fotocasa.es/es/comprar/vivienda/ma...   \n",
              "1           916358736.0  https://www.fotocasa.es/es/comprar/vivienda/ma...   \n",
              "2           916350408.0  https://www.fotocasa.es/es/comprar/vivienda/ma...   \n",
              "3           916358736.0  https://www.fotocasa.es/es/comprar/vivienda/ma...   \n",
              "4           912177526.0  https://www.fotocasa.es/es/comprar/vivienda/ma...   \n",
              "...                 ...                                                ...   \n",
              "15330       911360461.0  https://www.fotocasa.es/es/comprar/vivienda/ma...   \n",
              "15331       912788039.0  https://www.fotocasa.es/es/comprar/vivienda/ma...   \n",
              "15332       912780348.0  https://www.fotocasa.es/es/comprar/vivienda/ma...   \n",
              "15333       912788039.0  https://www.fotocasa.es/es/comprar/vivienda/ma...   \n",
              "15334       911360461.0  https://www.fotocasa.es/es/comprar/vivienda/ma...   \n",
              "\n",
              "       rooms  bathrooms  surface   price  ... level4Id level5Id level6Id  \\\n",
              "0        3.0        2.0    103.0  195000  ...        0        0        0   \n",
              "1        3.0        1.0      NaN   89000  ...        0        0        0   \n",
              "2        2.0        2.0     99.0  390000  ...        0        0        0   \n",
              "3        3.0        1.0     86.0   89000  ...        0        0        0   \n",
              "4        2.0        2.0    106.0  172000  ...        0        0        0   \n",
              "...      ...        ...      ...     ...  ...      ...      ...      ...   \n",
              "15330    2.0        1.0     96.0  259470  ...        0        0        0   \n",
              "15331    3.0        1.0    150.0  165000  ...        0        0        0   \n",
              "15332    4.0        2.0    175.0  495000  ...        0        0        0   \n",
              "15333    3.0        2.0    101.0  195000  ...        0        0        0   \n",
              "15334    3.0        2.0    152.0  765000  ...        0        0        0   \n",
              "\n",
              "      level7Id level8Id accuracy          latitude          longitude zipCode  \\\n",
              "0            0        0        0  40,2948276786438  -3,44402412135624     NaN   \n",
              "1            0        0        1          40,28674           -3,79351     NaN   \n",
              "2            0        0        0  40,4115646786438  -3,90662252135624     NaN   \n",
              "3            0        0        0  40,2853785786438  -3,79508142135624     NaN   \n",
              "4            0        0        0  40,2998774864376  -3,45226301356237     NaN   \n",
              "...        ...      ...      ...               ...                ...     ...   \n",
              "15330        0        0        0          40,45416           -3,70286     NaN   \n",
              "15331        0        0        0          40,36652           -3,48951     NaN   \n",
              "15332        0        0        0          40,57444           -3,92124     NaN   \n",
              "15333        0        0        0          40,36967           -3,48105     NaN   \n",
              "15334        0        0        0          40,45773           -3,69068     NaN   \n",
              "\n",
              "      customZone  \n",
              "0            NaN  \n",
              "1            NaN  \n",
              "2            NaN  \n",
              "3            NaN  \n",
              "4            NaN  \n",
              "...          ...  \n",
              "15330        NaN  \n",
              "15331        NaN  \n",
              "15332        NaN  \n",
              "15333        NaN  \n",
              "15334        NaN  \n",
              "\n",
              "[15335 rows x 37 columns]"
            ]
          },
          "execution_count": 1,
          "metadata": {},
          "output_type": "execute_result"
        }
      ],
      "source": [
        "import pandas as pd\n",
        "\n",
        "# Este archivo CSV contiene puntos y comas en lugar de comas como separadores\n",
        "ds = pd.read_csv('assets/real_estate.csv', sep=';')\n",
        "ds"
      ]
    },
    {
      "attachments": {},
      "cell_type": "markdown",
      "id": "latin-guest",
      "metadata": {},
      "source": [
        "#### Ejercicio 01. ¿Cuál es la casa más cara en todo el dataset? (★☆☆)\n",
        "\n",
        "Imprime la dirección y el precio de la casa seleccionada. Por ejemplo:\n",
        "\n",
        "`La casa con dirección en Calle del Prado, Nº20 es la más cara y su precio es de 5000000 USD`"
      ]
    },
    {
      "cell_type": "code",
      "execution_count": 13,
      "id": "developing-optimum",
      "metadata": {},
      "outputs": [
        {
          "name": "stdout",
          "output_type": "stream",
          "text": [
            "direccion: El Escorial\n",
            "precio: 8500000\n"
          ]
        }
      ],
      "source": [
        "import pandas as pd \n",
        "ds = pd.read_csv('assets/real_estate.csv', sep=';')\n",
        "\n",
        "casa_mascara = ds.loc[ds[\"price\"].idxmax()]\n",
        "print(\"direccion:\",casa_mascara[\"address\"])\n",
        "print(\"precio:\",casa_mascara[\"price\"])\n",
        "\n",
        "\n"
      ]
    },
    {
      "attachments": {},
      "cell_type": "markdown",
      "id": "lesser-cosmetic",
      "metadata": {},
      "source": [
        "#### Ejercicio 02. ¿Cuál es la casa más barata del dataset? (★☆☆)\n",
        "\n",
        "Imprime la dirección y el precio de la casa seleccionada. Por ejemplo:\n",
        "\n",
        "`La casa con dirección en Calle Alcalá, Nº58 es la más barata y su precio es de 12000 USD`"
      ]
    },
    {
      "cell_type": "code",
      "execution_count": 14,
      "id": "lovely-oasis",
      "metadata": {},
      "outputs": [
        {
          "name": "stdout",
          "output_type": "stream",
          "text": [
            "direccion: Parla\n",
            "precio: 0\n"
          ]
        }
      ],
      "source": [
        "import pandas as pd \n",
        "ds = pd.read_csv('assets/real_estate.csv', sep=';')\n",
        "\n",
        "casa_masbarata = ds.loc[ds[\"price\"].idxmin()]\n",
        "print(\"direccion:\",casa_masbarata[\"address\"])\n",
        "print(\"precio:\",casa_masbarata[\"price\"])"
      ]
    },
    {
      "attachments": {},
      "cell_type": "markdown",
      "id": "compliant-fellowship",
      "metadata": {},
      "source": [
        "#### Ejercicio 03. ¿Cuál es la casa más grande y la más pequeña del dataset? (★☆☆)\n",
        "\n",
        "Imprime la dirección y el área de las casas seleccionadas. Por ejemplo:\n",
        "\n",
        "`La casa más grande está ubicada en Calle Gran Vía, Nº38 y su superficie es de 5000 metros`\n",
        "\n",
        "`La casa más pequeña está ubicada en Calle Mayor, Nº12 y su superficie es de 200 metros`"
      ]
    },
    {
      "cell_type": "code",
      "execution_count": 17,
      "id": "every-tiffany",
      "metadata": {},
      "outputs": [
        {
          "name": "stdout",
          "output_type": "stream",
          "text": [
            "direccion: Sevilla la Nueva\n",
            "tamano: 249000.0\n",
            "direccion: Calle Amparo,  Madrid Capital\n",
            "tamano: 15.0\n"
          ]
        }
      ],
      "source": [
        "import pandas as pd \n",
        "ds = pd.read_csv('assets/real_estate.csv', sep=';')\n",
        "\n",
        "casa_masgrande = ds.loc[ds[\"surface\"].idxmax()]\n",
        "print(\"direccion:\",casa_masgrande[\"address\"])\n",
        "print(\"tamano:\",casa_masgrande[\"surface\"])\n",
        "\n",
        "casa_maspeque = ds.loc[ds[\"surface\"].idxmin()]\n",
        "print(\"direccion:\",casa_maspeque[\"address\"])\n",
        "print(\"tamano:\",casa_maspeque[\"surface\"])"
      ]
    },
    {
      "attachments": {},
      "cell_type": "markdown",
      "id": "danish-spirit",
      "metadata": {},
      "source": [
        "#### Ejercicio 04. ¿Cuantas poblaciones (columna level5) contiene el dataset? (★☆☆)\n",
        "\n",
        "Imprime el nombre de las poblaciones separadas por coma. Por ejemplo:\n",
        "\n",
        "`> print(populations)`\n",
        "\n",
        "`population1, population2, population3, ...`"
      ]
    },
    {
      "cell_type": "code",
      "execution_count": 3,
      "id": "exciting-accreditation",
      "metadata": {},
      "outputs": [
        {
          "name": "stdout",
          "output_type": "stream",
          "text": [
            "Arganda del Rey,Fuenlabrada,Boadilla del Monte,Las Rozas de Madrid, Madrid Capital,Villaviciosa de Odón,Pinto,Valdemoro,Navalcarnero,Pozuelo de Alarcón,Torrejón de Ardoz,Navalagamella,San Sebastián de los Reyes,Rivas-vaciamadrid,Alpedrete,Móstoles,San Fernando de Henares,Coslada,Becerril de la Sierra,Alcalá de Henares,Chinchón,Parla,Alcorcón,El Escorial,Leganés,Pedrezuela,Majadahonda,Villanueva de la Cañada,Villanueva del Pardillo,Torrelodones,Moralzarzal,Mejorada del Campo,Aranjuez,Corpa,Getafe,Velilla de San Antonio,Sevilla la Nueva,San Martín de la Vega,Villalbilla,Collado Villalba,Alcobendas,El Molar (Madrid),Moraleja de Enmedio,Algete,Campo Real,Torrejón de la Calzada,Colmenar Viejo,Valdemorillo,Fuente El Saz de Jarama,Tres Cantos,Arroyomolinos (Madrid),Griñón,Paracuellos de Jarama,Guadarrama,Titulcia,Galapagar,Collado Mediano,Los Molinos,San Lorenzo de El Escorial,Loeches,San Martín de Valdeiglesias,Navas del Rey,Bustarviejo,Manzanares El Real,Carabaña,Casarrubuelos,Cercedilla,Fresnedillas de la Oliva,Valdemaqueda,Robledo de Chavela,Miraflores de la Sierra,Humanes de Madrid,Valdetorres de Jarama,San Agustín del Guadalix,Ciempozuelos,Camarma de Esteruelas,Torres de la Alameda,Talamanca de Jarama,El Atazar,Hoyo de Manzanares,El Boalo - Cerceda – Mataelpino,El Álamo,Valdilecha,Valdeolmos-Alalpardo,Guadalix de la Sierra,Belmonte de Tajo,El Vellón,Brunete,Redueña,Morata de Tajuña,Tielmes,Gargantilla del Lozoya,Meco,Venturada,Quijorna,Cenicientos,Torrejón de Velasco,Navacerrada,Santa María de la Alameda,Orusco de Tajuña,Daganzo de Arriba,Villamanta,Anchuelo,Valdaracete,Ajalvir,Los Santos de la Humosa,Villamanrique de Tajo,Colmenar de Oreja,Villa del Prado,Fuentidueña de Tajo,Colmenar del Arroyo,Valdelaguna,Cubas de la Sagra,Valdeavero,Aldea del Fresno,Ribatejada,Torrelaguna,Batres,Pezuela de las Torres,Colmenarejo,Serranillos del Valle,Cobeña,Soto del Real,El Berrueco,Villanueva de Perales,Fresno de Torote - Serracines,Pozuelo del Rey,Pelayos de la Presa,La Cabrera,Nuevo Baztán,Perales de Tajuña,Villaconejos,Villarejo de Salvanés,Cadalso de los Vidrios,Santorcaz,Madarcos,Garganta de los Montes,Puentes Viejas,Torremocha de Jarama,Valdemanco,Braojos,Lozoyuela-navas-sieteiglesias,Piñuécar-gandullas,Valdepiélagos,Valverde de Alcalá,Villar del Olmo,Villamantilla,Horcajo de la Sierra,Gascones,Zarzalejo,Villavieja del Lozoya,Brea de Tajo,Estremera,Chapinería,Navarredonda,Patones,Ambite,Navalafuente,Lozoya,Canencia,Cabanillas de la Sierra,Buitrago del Lozoya,Fresno de Torote,Robregordo,Pinilla del Valle,Rascafría,La Hiruela,Montejo de la Sierra\n"
          ]
        }
      ],
      "source": [
        "import pandas as pd \n",
        "ds = pd.read_csv('assets/real_estate.csv', sep=';')\n",
        "x=ds[\"level5\"].dropna().unique()\n",
        "x_str=\",\".join([str(i) for i in x])\n",
        "print (x_str)"
      ]
    },
    {
      "attachments": {},
      "cell_type": "markdown",
      "id": "crazy-blame",
      "metadata": {},
      "source": [
        "#### Ejercicio 05. ¿El dataset contiene valores no admitidos (NAs)? (★☆☆)\n",
        "\n",
        "Imprima un booleano (`True` o `False`) seguido de la fila/columna que contiene el NAs."
      ]
    },
    {
      "cell_type": "code",
      "execution_count": 44,
      "id": "transparent-poetry",
      "metadata": {},
      "outputs": [
        {
          "name": "stdout",
          "output_type": "stream",
          "text": [
            "Unnamed: 0          False\n",
            "id_realEstates      False\n",
            "isNew               False\n",
            "realEstate_name      True\n",
            "phone_realEstate     True\n",
            "url_inmueble        False\n",
            "rooms                True\n",
            "bathrooms            True\n",
            "surface              True\n",
            "price               False\n",
            "date                False\n",
            "description          True\n",
            "address             False\n",
            "country             False\n",
            "level1              False\n",
            "level2              False\n",
            "level3              False\n",
            "level4               True\n",
            "level5              False\n",
            "level6               True\n",
            "level7               True\n",
            "level8               True\n",
            "upperLevel          False\n",
            "countryId           False\n",
            "level1Id            False\n",
            "level2Id            False\n",
            "level3Id            False\n",
            "level4Id            False\n",
            "level5Id            False\n",
            "level6Id            False\n",
            "level7Id            False\n",
            "level8Id            False\n",
            "accuracy            False\n",
            "latitude            False\n",
            "longitude           False\n",
            "zipCode              True\n",
            "customZone           True\n",
            "dtype: bool\n"
          ]
        }
      ],
      "source": [
        "null = ds.isnull().any()\n",
        "\n",
        "print(null)"
      ]
    },
    {
      "attachments": {},
      "cell_type": "markdown",
      "id": "italic-hydrogen",
      "metadata": {},
      "source": [
        "#### Ejercicio 06. Elimina los NAs del dataset, si aplica (★★☆)\n",
        "\n",
        "Imprima una comparación entre las dimensiones del DataFrame original versus el DataFrame después de las eliminaciones.\n"
      ]
    },
    {
      "cell_type": "code",
      "execution_count": 52,
      "id": "administrative-roads",
      "metadata": {},
      "outputs": [
        {
          "name": "stdout",
          "output_type": "stream",
          "text": [
            "Empty DataFrame\n",
            "Columns: [Unnamed: 0, id_realEstates, isNew, realEstate_name, phone_realEstate, url_inmueble, rooms, bathrooms, surface, price, date, description, address, country, level1, level2, level3, level4, level5, level6, level7, level8, upperLevel, countryId, level1Id, level2Id, level3Id, level4Id, level5Id, level6Id, level7Id, level8Id, accuracy, latitude, longitude, zipCode, customZone]\n",
            "Index: []\n",
            "\n",
            "[0 rows x 37 columns]\n",
            "0\n"
          ]
        }
      ],
      "source": [
        "\n",
        "limpieza = ds.dropna()\n",
        "print (limpieza)\n",
        "print (limpieza.size)"
      ]
    },
    {
      "attachments": {},
      "cell_type": "markdown",
      "id": "middle-china",
      "metadata": {},
      "source": [
        "#### Ejercicio 07. ¿Cuál la media de precios en la población (columna level5) de \"Arroyomolinos (Madrid)\"? (★★☆)\n",
        "\n",
        "Imprima el valor obtenido."
      ]
    },
    {
      "cell_type": "code",
      "execution_count": 11,
      "id": "nuclear-belief",
      "metadata": {},
      "outputs": [
        {
          "name": "stdout",
          "output_type": "stream",
          "text": [
            "nan\n"
          ]
        }
      ],
      "source": [
        "Arroyo= ds.loc[ds[\"level5\"]==\"Arroyomolinos\"]\n",
        "media_precios=Arroyo[\"price\"].mean()\n",
        "print(media_precios)\n",
        "\n"
      ]
    },
    {
      "attachments": {},
      "cell_type": "markdown",
      "id": "concerned-radical",
      "metadata": {},
      "source": [
        "#### Ejercicio 08. Trazar el histograma de los precios para la población (level5 column) de \"Arroyomolinos (Madrid)\" y explica qué observas (★★☆)\n",
        "\n",
        "Imprime el histograma de los precios y escribe en la celda del Markdown un breve análisis del trazado.\n"
      ]
    },
    {
      "cell_type": "code",
      "execution_count": 47,
      "id": "sudden-message",
      "metadata": {},
      "outputs": [
        {
          "data": {
            "text/plain": [
              "(array([6.900e+01, 7.400e+01, 3.530e+02, 9.750e+02, 1.465e+03, 1.303e+03,\n",
              "        1.073e+03, 9.180e+02, 1.047e+03, 8.270e+02, 5.790e+02, 5.790e+02,\n",
              "        5.470e+02, 4.310e+02, 3.380e+02, 3.450e+02, 3.130e+02, 2.400e+02,\n",
              "        2.670e+02, 2.740e+02, 1.800e+02, 1.990e+02, 1.360e+02, 1.630e+02,\n",
              "        1.340e+02, 1.810e+02, 1.700e+02, 8.800e+01, 1.370e+02, 1.190e+02,\n",
              "        1.110e+02, 9.700e+01, 7.600e+01, 1.150e+02, 1.400e+01, 4.200e+01,\n",
              "        5.800e+01, 7.000e+00, 4.600e+01, 4.900e+01, 5.200e+01, 5.000e+01,\n",
              "        1.200e+01, 5.700e+01, 1.100e+01, 4.000e+01, 6.900e+01, 7.000e+00,\n",
              "        3.100e+01, 4.100e+01, 5.000e+01, 1.500e+01, 9.000e+00, 6.000e+01,\n",
              "        5.000e+00, 2.200e+01, 3.100e+01, 2.100e+01, 2.800e+01, 1.700e+01,\n",
              "        3.600e+01, 1.200e+01, 2.100e+01, 2.000e+01, 0.000e+00, 2.200e+01,\n",
              "        2.700e+01, 9.000e+00, 4.000e+00, 0.000e+00, 2.000e+01, 2.000e+00,\n",
              "        3.000e+00, 3.700e+01, 0.000e+00, 1.300e+01, 1.100e+01, 1.600e+01,\n",
              "        5.000e+00, 1.000e+00, 1.100e+01, 0.000e+00, 8.000e+00, 2.500e+01,\n",
              "        1.000e+00, 4.000e+00, 1.000e+00, 6.000e+00, 1.000e+00, 0.000e+00,\n",
              "        1.500e+01, 0.000e+00, 8.000e+00, 1.400e+01, 0.000e+00, 1.200e+01,\n",
              "        1.000e+00, 9.000e+00, 1.000e+01, 7.000e+00, 3.000e+01, 0.000e+00,\n",
              "        1.000e+00, 1.000e+01, 1.000e+00, 2.000e+00, 1.000e+00, 1.300e+01,\n",
              "        3.000e+00, 3.000e+00, 2.000e+00, 0.000e+00, 0.000e+00, 1.000e+00,\n",
              "        2.000e+00, 0.000e+00, 0.000e+00, 1.700e+01, 0.000e+00, 0.000e+00,\n",
              "        4.000e+00, 0.000e+00, 1.000e+00, 1.000e+00, 2.000e+00, 4.000e+00,\n",
              "        0.000e+00, 1.000e+00, 0.000e+00, 2.000e+00, 2.000e+00, 0.000e+00,\n",
              "        4.000e+00, 3.000e+00, 2.000e+00, 0.000e+00, 1.000e+00, 5.000e+00,\n",
              "        0.000e+00, 3.000e+00, 9.000e+00, 0.000e+00, 2.000e+00, 0.000e+00,\n",
              "        1.000e+00, 3.000e+00, 0.000e+00, 0.000e+00, 0.000e+00, 0.000e+00,\n",
              "        8.000e+00, 0.000e+00, 0.000e+00, 0.000e+00, 0.000e+00, 0.000e+00,\n",
              "        0.000e+00, 0.000e+00, 0.000e+00, 0.000e+00, 1.000e+00, 0.000e+00,\n",
              "        0.000e+00, 0.000e+00, 0.000e+00, 4.000e+00, 0.000e+00, 2.000e+00,\n",
              "        0.000e+00, 0.000e+00, 0.000e+00, 0.000e+00, 1.000e+00, 0.000e+00,\n",
              "        4.000e+00, 0.000e+00, 0.000e+00, 0.000e+00, 0.000e+00, 0.000e+00,\n",
              "        0.000e+00, 0.000e+00, 0.000e+00, 0.000e+00, 3.000e+00, 0.000e+00,\n",
              "        0.000e+00, 2.000e+00, 0.000e+00, 0.000e+00, 0.000e+00, 0.000e+00,\n",
              "        0.000e+00, 0.000e+00, 1.000e+00, 0.000e+00, 0.000e+00, 5.000e+00,\n",
              "        0.000e+00, 0.000e+00, 0.000e+00, 1.000e+00, 0.000e+00, 0.000e+00,\n",
              "        0.000e+00, 0.000e+00, 0.000e+00, 1.000e+00, 0.000e+00, 0.000e+00,\n",
              "        0.000e+00, 0.000e+00, 0.000e+00, 0.000e+00, 0.000e+00, 0.000e+00,\n",
              "        0.000e+00, 0.000e+00, 0.000e+00, 0.000e+00, 0.000e+00, 0.000e+00,\n",
              "        0.000e+00, 0.000e+00, 0.000e+00, 0.000e+00, 0.000e+00, 0.000e+00,\n",
              "        0.000e+00, 0.000e+00, 0.000e+00, 0.000e+00, 0.000e+00, 1.000e+00,\n",
              "        1.000e+00, 0.000e+00, 0.000e+00, 0.000e+00, 0.000e+00, 0.000e+00,\n",
              "        0.000e+00, 0.000e+00, 0.000e+00, 0.000e+00, 0.000e+00, 0.000e+00,\n",
              "        0.000e+00, 0.000e+00, 0.000e+00, 0.000e+00, 0.000e+00, 0.000e+00,\n",
              "        0.000e+00, 0.000e+00, 0.000e+00, 0.000e+00, 0.000e+00, 0.000e+00,\n",
              "        0.000e+00, 0.000e+00, 0.000e+00, 1.000e+00, 0.000e+00, 0.000e+00,\n",
              "        1.000e+00, 0.000e+00, 0.000e+00, 0.000e+00, 2.000e+00, 0.000e+00,\n",
              "        0.000e+00, 0.000e+00, 0.000e+00, 0.000e+00, 0.000e+00, 0.000e+00,\n",
              "        0.000e+00, 0.000e+00, 0.000e+00, 0.000e+00, 0.000e+00, 0.000e+00,\n",
              "        0.000e+00, 0.000e+00, 1.000e+00]),\n",
              " array([      0.        ,   29824.56140351,   59649.12280702,\n",
              "          89473.68421053,  119298.24561404,  149122.80701754,\n",
              "         178947.36842105,  208771.92982456,  238596.49122807,\n",
              "         268421.05263158,  298245.61403509,  328070.1754386 ,\n",
              "         357894.73684211,  387719.29824561,  417543.85964912,\n",
              "         447368.42105263,  477192.98245614,  507017.54385965,\n",
              "         536842.10526316,  566666.66666667,  596491.22807018,\n",
              "         626315.78947368,  656140.35087719,  685964.9122807 ,\n",
              "         715789.47368421,  745614.03508772,  775438.59649123,\n",
              "         805263.15789474,  835087.71929825,  864912.28070175,\n",
              "         894736.84210526,  924561.40350877,  954385.96491228,\n",
              "         984210.52631579, 1014035.0877193 , 1043859.64912281,\n",
              "        1073684.21052632, 1103508.77192982, 1133333.33333333,\n",
              "        1163157.89473684, 1192982.45614035, 1222807.01754386,\n",
              "        1252631.57894737, 1282456.14035088, 1312280.70175439,\n",
              "        1342105.26315789, 1371929.8245614 , 1401754.38596491,\n",
              "        1431578.94736842, 1461403.50877193, 1491228.07017544,\n",
              "        1521052.63157895, 1550877.19298246, 1580701.75438596,\n",
              "        1610526.31578947, 1640350.87719298, 1670175.43859649,\n",
              "        1700000.        , 1729824.56140351, 1759649.12280702,\n",
              "        1789473.68421053, 1819298.24561404, 1849122.80701754,\n",
              "        1878947.36842105, 1908771.92982456, 1938596.49122807,\n",
              "        1968421.05263158, 1998245.61403509, 2028070.1754386 ,\n",
              "        2057894.73684211, 2087719.29824561, 2117543.85964912,\n",
              "        2147368.42105263, 2177192.98245614, 2207017.54385965,\n",
              "        2236842.10526316, 2266666.66666667, 2296491.22807018,\n",
              "        2326315.78947368, 2356140.35087719, 2385964.9122807 ,\n",
              "        2415789.47368421, 2445614.03508772, 2475438.59649123,\n",
              "        2505263.15789474, 2535087.71929825, 2564912.28070175,\n",
              "        2594736.84210526, 2624561.40350877, 2654385.96491228,\n",
              "        2684210.52631579, 2714035.0877193 , 2743859.64912281,\n",
              "        2773684.21052632, 2803508.77192982, 2833333.33333333,\n",
              "        2863157.89473684, 2892982.45614035, 2922807.01754386,\n",
              "        2952631.57894737, 2982456.14035088, 3012280.70175439,\n",
              "        3042105.26315789, 3071929.8245614 , 3101754.38596491,\n",
              "        3131578.94736842, 3161403.50877193, 3191228.07017544,\n",
              "        3221052.63157895, 3250877.19298246, 3280701.75438596,\n",
              "        3310526.31578947, 3340350.87719298, 3370175.43859649,\n",
              "        3400000.        , 3429824.56140351, 3459649.12280702,\n",
              "        3489473.68421053, 3519298.24561404, 3549122.80701754,\n",
              "        3578947.36842105, 3608771.92982456, 3638596.49122807,\n",
              "        3668421.05263158, 3698245.61403509, 3728070.1754386 ,\n",
              "        3757894.73684211, 3787719.29824561, 3817543.85964912,\n",
              "        3847368.42105263, 3877192.98245614, 3907017.54385965,\n",
              "        3936842.10526316, 3966666.66666667, 3996491.22807018,\n",
              "        4026315.78947368, 4056140.35087719, 4085964.9122807 ,\n",
              "        4115789.47368421, 4145614.03508772, 4175438.59649123,\n",
              "        4205263.15789474, 4235087.71929825, 4264912.28070175,\n",
              "        4294736.84210526, 4324561.40350877, 4354385.96491228,\n",
              "        4384210.52631579, 4414035.0877193 , 4443859.64912281,\n",
              "        4473684.21052632, 4503508.77192982, 4533333.33333333,\n",
              "        4563157.89473684, 4592982.45614035, 4622807.01754386,\n",
              "        4652631.57894737, 4682456.14035088, 4712280.70175439,\n",
              "        4742105.26315789, 4771929.8245614 , 4801754.38596491,\n",
              "        4831578.94736842, 4861403.50877193, 4891228.07017544,\n",
              "        4921052.63157895, 4950877.19298246, 4980701.75438596,\n",
              "        5010526.31578947, 5040350.87719298, 5070175.43859649,\n",
              "        5100000.        , 5129824.56140351, 5159649.12280702,\n",
              "        5189473.68421053, 5219298.24561404, 5249122.80701754,\n",
              "        5278947.36842105, 5308771.92982456, 5338596.49122807,\n",
              "        5368421.05263158, 5398245.61403509, 5428070.1754386 ,\n",
              "        5457894.73684211, 5487719.29824561, 5517543.85964912,\n",
              "        5547368.42105263, 5577192.98245614, 5607017.54385965,\n",
              "        5636842.10526316, 5666666.66666667, 5696491.22807018,\n",
              "        5726315.78947368, 5756140.35087719, 5785964.9122807 ,\n",
              "        5815789.47368421, 5845614.03508772, 5875438.59649123,\n",
              "        5905263.15789474, 5935087.71929825, 5964912.28070175,\n",
              "        5994736.84210526, 6024561.40350877, 6054385.96491228,\n",
              "        6084210.52631579, 6114035.0877193 , 6143859.64912281,\n",
              "        6173684.21052632, 6203508.77192982, 6233333.33333333,\n",
              "        6263157.89473684, 6292982.45614035, 6322807.01754386,\n",
              "        6352631.57894737, 6382456.14035088, 6412280.70175439,\n",
              "        6442105.26315789, 6471929.8245614 , 6501754.38596491,\n",
              "        6531578.94736842, 6561403.50877193, 6591228.07017544,\n",
              "        6621052.63157895, 6650877.19298246, 6680701.75438596,\n",
              "        6710526.31578947, 6740350.87719298, 6770175.43859649,\n",
              "        6800000.        , 6829824.56140351, 6859649.12280702,\n",
              "        6889473.68421053, 6919298.24561404, 6949122.80701754,\n",
              "        6978947.36842105, 7008771.92982456, 7038596.49122807,\n",
              "        7068421.05263158, 7098245.61403509, 7128070.1754386 ,\n",
              "        7157894.73684211, 7187719.29824561, 7217543.85964912,\n",
              "        7247368.42105263, 7277192.98245614, 7307017.54385965,\n",
              "        7336842.10526316, 7366666.66666667, 7396491.22807018,\n",
              "        7426315.78947368, 7456140.35087719, 7485964.9122807 ,\n",
              "        7515789.47368421, 7545614.03508772, 7575438.59649123,\n",
              "        7605263.15789474, 7635087.71929825, 7664912.28070175,\n",
              "        7694736.84210526, 7724561.40350877, 7754385.96491228,\n",
              "        7784210.52631579, 7814035.0877193 , 7843859.64912281,\n",
              "        7873684.21052632, 7903508.77192982, 7933333.33333333,\n",
              "        7963157.89473684, 7992982.45614035, 8022807.01754386,\n",
              "        8052631.57894737, 8082456.14035088, 8112280.70175439,\n",
              "        8142105.26315789, 8171929.8245614 , 8201754.38596491,\n",
              "        8231578.94736842, 8261403.50877193, 8291228.07017544,\n",
              "        8321052.63157895, 8350877.19298246, 8380701.75438596,\n",
              "        8410526.31578947, 8440350.87719298, 8470175.43859649,\n",
              "        8500000.        ]),\n",
              " <BarContainer object of 285 artists>)"
            ]
          },
          "execution_count": 47,
          "metadata": {},
          "output_type": "execute_result"
        },
        {
          "data": {
            "image/png": "[encoded data removed]",
            "text/plain": [
              "<Figure size 640x480 with 1 Axes>"
            ]
          },
          "metadata": {},
          "output_type": "display_data"
        }
      ],
      "source": [
        "import matplotlib.pyplot as plt\n",
        "import pandas as pd\n",
        "\n",
        "ds = pd.read_csv('assets/real_estate.csv', sep=';')\n",
        "plt.hist(ds[\"price\"], bins=\"auto\")"
      ]
    },
    {
      "attachments": {},
      "cell_type": "markdown",
      "id": "impressed-combination",
      "metadata": {},
      "source": [
        "**TODO: Markdown**. Para escribir aquí, haz doble clic en esta celda, elimina este contenido y coloca lo que quieras escribir. Luego ejecuta la celda."
      ]
    },
    {
      "attachments": {},
      "cell_type": "markdown",
      "id": "actual-edinburgh",
      "metadata": {},
      "source": [
        "#### Ejercicio 09. ¿Son los precios promedios de \"Valdemorillo\" y \"Galapagar\" los mismos? (★★☆)\n",
        "\n",
        "Imprime ambos promedios y escribe una conclusión sobre ellos."
      ]
    },
    {
      "cell_type": "code",
      "execution_count": 5,
      "id": "numeric-commerce",
      "metadata": {},
      "outputs": [
        {
          "name": "stdout",
          "output_type": "stream",
          "text": [
            "363860\n",
            "360063\n"
          ]
        }
      ],
      "source": [
        "import pandas as pd \n",
        "ds = pd.read_csv('assets/real_estate.csv', sep=';')\n",
        "\n",
        "data_valde = ds.loc[ds[\"level5\"] == \"Valdemorillo\"]\n",
        "media_precio_v= int(data_valde[\"price\"].mean())\n",
        "\n",
        "\n",
        "data_gala = ds.loc[ds[\"level5\"] == \"Galapagar\"]\n",
        "media_precio_g= int(data_gala[\"price\"].mean())\n",
        "\n",
        "\n",
        "\n",
        "print(media_precio_v)\n",
        "print(media_precio_g)"
      ]
    },
    {
      "attachments": {},
      "cell_type": "markdown",
      "id": "lonely-article",
      "metadata": {},
      "source": [
        "#### Ejercicio 10. ¿Son los promedios de precio por metro cuadrado (precio/m2) de \"Valdemorillo\" y \"Galapagar\" los mismos? (★★☆)\n",
        "\n",
        "Imprime ambos promedios de precio por metro cuadrado y escribe una conclusión sobre ellos.\n",
        "\n",
        "Pista: Crea una nueva columna llamada `pps` (*price per square* o precio por metro cuadrado) y luego analiza los valores."
      ]
    },
    {
      "cell_type": "code",
      "execution_count": 8,
      "id": "hourly-globe",
      "metadata": {},
      "outputs": [
        {
          "name": "stdout",
          "output_type": "stream",
          "text": [
            "1317\n",
            "1606\n"
          ]
        }
      ],
      "source": [
        "ds[\"pps\"] = ds[\"price\"] / ds[\"surface\"]\n",
        "data_valde = ds.loc[ds[\"level5\"] == \"Valdemorillo\"]\n",
        "promedio_val = int(data_valde[\"pps\"].mean())\n",
        "data_gala = ds.loc[ds[\"level5\"] == \"Galapagar\"]\n",
        "promedio_gal = int(data_gala[\"pps\"].mean())\n",
        "\n",
        "print(promedio_val)\n",
        "print(promedio_gal)"
      ]
    },
    {
      "attachments": {},
      "cell_type": "markdown",
      "id": "pleasant-invite",
      "metadata": {},
      "source": [
        "#### Ejercicio 11. Analiza la relación entre la superficie y el precio de las casas. (★★☆)\n",
        "\n",
        "Pista: Puedes hacer un `scatter plot` y luego escribir una conclusión al respecto."
      ]
    },
    {
      "cell_type": "code",
      "execution_count": 9,
      "id": "common-drilling",
      "metadata": {},
      "outputs": [
        {
          "data": {
            "text/plain": [
              "<matplotlib.collections.PathCollection at 0x75e7d7206a50>"
            ]
          },
          "execution_count": 9,
          "metadata": {},
          "output_type": "execute_result"
        },
        {
          "data": {
            "image/png": "[encoded data removed]",
            "text/plain": [
              "<Figure size 640x480 with 1 Axes>"
            ]
          },
          "metadata": {},
          "output_type": "display_data"
        }
      ],
      "source": [
        "# TODO: Código\n",
        "import matplotlib.pyplot as plt \n",
        "import pandas as pd\n",
        "\n",
        "ds = pd.read_csv('assets/real_estate.csv', sep=';')\n",
        "\n",
        "x = ds[\"surface\"]\n",
        "y = ds[\"price\"]\n",
        "\n",
        "plt.scatter(x, y)\n",
        "\n"
      ]
    },
    {
      "attachments": {},
      "cell_type": "markdown",
      "id": "ahead-liquid",
      "metadata": {},
      "source": [
        "**TODO: Markdown**. Para escribir aquí, haz doble clic en esta celda, elimina este contenido y coloca lo que quieras escribir. Luego ejecuta la celda."
      ]
    },
    {
      "attachments": {},
      "cell_type": "markdown",
      "id": "coordinate-sunrise",
      "metadata": {},
      "source": [
        "#### Ejercicio 12. ¿Cuántas agencia de bienes raíces contiene el dataset? (★★☆)\n",
        "\n",
        "Imprime el valor obtenido."
      ]
    },
    {
      "cell_type": "code",
      "execution_count": 15,
      "id": "valid-honolulu",
      "metadata": {},
      "outputs": [],
      "source": [
        "inmo=(ds[\"realEstate_name\"].unique())\n",
        "print=(inmo)\n"
      ]
    },
    {
      "attachments": {},
      "cell_type": "markdown",
      "id": "binding-ebony",
      "metadata": {},
      "source": [
        "#### Ejercicio 13. ¿Cuál es la población (columna level5) que contiene la mayor cantidad de casas?(★★☆)\n",
        "\n",
        "Imprima la población y el número de casas."
      ]
    },
    {
      "cell_type": "code",
      "execution_count": null,
      "id": "static-perry",
      "metadata": {},
      "outputs": [
        {
          "data": {
            "text/plain": [
              "level5\n",
              " Madrid Capital         6643\n",
              "Alcalá de Henares        525\n",
              "Las Rozas de Madrid      383\n",
              "Móstoles                 325\n",
              "Getafe                   290\n",
              "                        ... \n",
              "Fresno de Torote           1\n",
              "Pinilla del Valle          1\n",
              "Rascafría                  1\n",
              "La Hiruela                 1\n",
              "Montejo de la Sierra       1\n",
              "Name: count, Length: 168, dtype: int64"
            ]
          },
          "execution_count": 10,
          "metadata": {},
          "output_type": "execute_result"
        }
      ],
      "source": [
        "# TODO\n",
        "ds[\"level5\"].value_counts()\n"
      ]
    },
    {
      "attachments": {},
      "cell_type": "markdown",
      "id": "entire-classification",
      "metadata": {},
      "source": [
        "#### Ejercicio 14. Ahora vamos a trabajar con el \"cinturón sur\" de Madrid. Haz un subconjunto del DataFrame original que contenga las siguientes poblaciones (columna level5): \"Fuenlabrada\", \"Leganés\", \"Getafe\", \"Alcorcón\" (★★☆)\n",
        "\n",
        "Pista: Filtra el DataFrame original usando la columna `level5` y la función `isin`."
      ]
    },
    {
      "cell_type": "code",
      "execution_count": 26,
      "id": "binary-input",
      "metadata": {},
      "outputs": [
        {
          "ename": "TypeError",
          "evalue": "'numpy.ndarray' object is not callable",
          "output_type": "error",
          "traceback": [
            "\u001b[31m---------------------------------------------------------------------------\u001b[39m",
            "\u001b[31mTypeError\u001b[39m                                 Traceback (most recent call last)",
            "\u001b[36mCell\u001b[39m\u001b[36m \u001b[39m\u001b[32mIn[26]\u001b[39m\u001b[32m, line 11\u001b[39m\n\u001b[32m      6\u001b[39m \u001b[38;5;66;03m#filtro = ds[ds[\"level5\"].apply(lambda x: x in cinturon_sur )]\u001b[39;00m\n\u001b[32m      7\u001b[39m \u001b[38;5;66;03m#print (filtro)\u001b[39;00m\n\u001b[32m      9\u001b[39m cs = ds[ds[\u001b[33m\"\u001b[39m\u001b[33mlevel5\u001b[39m\u001b[33m\"\u001b[39m].isin(cinturon_sur)]\n\u001b[32m---> \u001b[39m\u001b[32m11\u001b[39m \u001b[38;5;28;43mprint\u001b[39;49m\u001b[43m(\u001b[49m\u001b[43mcs\u001b[49m\u001b[43m)\u001b[49m\n",
            "\u001b[31mTypeError\u001b[39m: 'numpy.ndarray' object is not callable"
          ]
        }
      ],
      "source": [
        "import pandas as pd\n",
        "\n",
        "ds = pd.read_csv('assets/real_estate.csv', sep=';')\n",
        "\n",
        "cinturon_sur = [\"Fuenlabrada\", \"Leganes\", \"Getafe\", \"Alcorcon\"]\n",
        "#filtro = ds[ds[\"level5\"].apply(lambda x: x in cinturon_sur )]\n",
        "#print (filtro)\n",
        "\n",
        "cs = ds[ds[\"level5\"].isin(cinturon_sur)]\n",
        "\n",
        "print(cs)\n",
        "\n",
        "       "
      ]
    },
    {
      "attachments": {},
      "cell_type": "markdown",
      "id": "severe-fisher",
      "metadata": {},
      "source": [
        "#### Ejercicio 15. Traza un gráfico de barras de la mediana de los precios y explica lo que observas (debes usar el subconjunto obtenido del Ejercicio 14) (★★★)\n",
        "\n",
        "Imprima un gráfico de barras de la mediana de precios y escriba en la celda Markdown un breve análisis sobre el gráfico."
      ]
    },
    {
      "cell_type": "code",
      "execution_count": 34,
      "id": "lyric-bunch",
      "metadata": {},
      "outputs": [
        {
          "data": {
            "image/png": "[encoded data removed]",
            "text/plain": [
              "<Figure size 640x480 with 1 Axes>"
            ]
          },
          "metadata": {},
          "output_type": "display_data"
        }
      ],
      "source": [
        "import pandas as pd\n",
        "import matplotlib.pyplot as plt\n",
        "import numpy as np\n",
        "\n",
        "ds = pd.read_csv('assets/real_estate.csv', sep=';')\n",
        "cinturon_sur = [\"Fuenlabrada\", \"Leganes\", \"Getafe\", \"Alcorcon\"]\n",
        "precios = cs[\"price\"]\n",
        "mediana = np.median(precios)\n",
        "\n",
        "# grafico\n",
        "plt.bar(\"Mediana\", mediana)\n",
        "plt.title(\"Mediana de Precio en el Cinturón Sur\")\n",
        "plt.ylabel(\"Precio\")\n",
        "plt.grid()\n",
        "plt.show()\n"
      ]
    },
    {
      "attachments": {},
      "cell_type": "markdown",
      "id": "sublime-newspaper",
      "metadata": {},
      "source": [
        "**TODO: Markdown**. Para escribir aquí, haz doble clic en esta celda, elimina este contenido y coloca lo que quieras escribir. Luego ejecuta la celda."
      ]
    },
    {
      "attachments": {},
      "cell_type": "markdown",
      "id": "speaking-diamond",
      "metadata": {},
      "source": [
        "#### Ejercicio 16. Calcula la media y la varianza de muestra para las siguientes variables: precio, habitaciones, superficie y baños (debes usar el subconjunto obtenido del Ejercicio 14) (★★★)\n",
        "\n",
        "Imprime ambos valores por cada variable."
      ]
    },
    {
      "cell_type": "code",
      "execution_count": 20,
      "id": "random-feeling",
      "metadata": {},
      "outputs": [
        {
          "name": "stdout",
          "output_type": "stream",
          "text": [
            "1.6795366795366795\n",
            "0.5663502684779281\n",
            "116.42922374429224\n",
            "4350.8496703342635\n",
            "3.0959692898272553\n",
            "0.5907721836704561\n",
            "225906.0879541109\n",
            "15615995607.199146\n"
          ]
        }
      ],
      "source": [
        "media_precio = cs [\"price\"].mean()\n",
        "v_precio = cs [\"price\"].var()\n",
        "\n",
        "media_rooms = cs [\"rooms\"].mean()\n",
        "v_rooms = cs [\"rooms\"].var()\n",
        "\n",
        "media_surface = cs [\"surface\"].mean()\n",
        "v_surface = cs [\"surface\"].var()\n",
        "\n",
        "media_bathrooms = cs [\"bathrooms\"].mean()\n",
        "v_bathrooms = cs[\"bathrooms\"].var()\n",
        "\n",
        "print(media_bathrooms)\n",
        "print(v_bathrooms)\n",
        "print(media_surface)\n",
        "print(v_surface)\n",
        "print(media_rooms)\n",
        "print(v_rooms)\n",
        "print(media_precio)\n",
        "print(v_precio)"
      ]
    },
    {
      "attachments": {},
      "cell_type": "markdown",
      "id": "revolutionary-matrix",
      "metadata": {},
      "source": [
        "Ejercicio 17. ¿Cuál es la casa más cara de cada población? Debes usar el subset obtenido en la pregunta 14 (★★☆)\n",
        "\n",
        "Imprime tanto la dirección como el precio de la casa seleccionada de cada población. Puedes imprimir un DataFrame o una sola línea para cada población."
      ]
    },
    {
      "cell_type": "code",
      "execution_count": 2,
      "id": "fifteen-browse",
      "metadata": {},
      "outputs": [
        {
          "name": "stdout",
          "output_type": "stream",
          "text": [
            "490000\n",
            "nan\n",
            "nan\n",
            "1050000\n"
          ]
        }
      ],
      "source": [
        "import pandas as pd\n",
        "import matplotlib as plt\n",
        "import numpy as np\n",
        "ds = pd.read_csv('assets/real_estate.csv', sep=';')\n",
        "\n",
        "fuen = [\"Fuenlabrada\"]\n",
        "cs= ds[ds[\"level5\"].isin(fuen)]\n",
        "cs_mascaro= cs[\"price\"].max()\n",
        "\n",
        "print(cs_mascaro)\n",
        "\n",
        "\n",
        "leg =[\"Leganes\"]\n",
        "cs= ds[ds[\"level5\"].isin(leg)]\n",
        "cs_mascaro1= cs[\"price\"].max()\n",
        "print (cs_mascaro1)\n",
        "\n",
        "\n",
        "alc =[\"Alcorcon\"]\n",
        "cs= ds[ds[\"level5\"].isin(alc)]\n",
        "cs_mascaro2= cs[\"price\"].max()\n",
        "print (cs_mascaro2)\n",
        "\n",
        "\n",
        "get =[\"Getafe\"]\n",
        "cs= ds[ds[\"level5\"].isin(get)]\n",
        "cs_mascaro3= cs[\"price\"].max()\n",
        "print (cs_mascaro3)\n",
        "\n",
        "\n",
        "\n"
      ]
    },
    {
      "attachments": {},
      "cell_type": "markdown",
      "id": "activated-knight",
      "metadata": {},
      "source": [
        "#### Ejercicio 18. Normaliza la variable de precios para cada población y traza los 4 histogramas en el mismo gráfico (debes usar el subconjunto obtenido en la pregunta 14) (★★★)\n",
        "\n",
        "Para el método de normalización, puedes usar el que consideres adecuado, no hay una única respuesta correcta para esta pregunta. Imprime el gráfico y escribe en la celda de Markdown un breve análisis sobre el gráfico.\n",
        "\n",
        "Pista: Puedes ayudarte revisando la demostración multihist de Matplotlib."
      ]
    },
    {
      "cell_type": "code",
      "execution_count": null,
      "id": "civic-meditation",
      "metadata": {},
      "outputs": [
        {
          "data": {
            "image/png": "[encoded data removed]",
            "text/plain": [
              "<Figure size 1200x800 with 4 Axes>"
            ]
          },
          "metadata": {},
          "output_type": "display_data"
        }
      ],
      "source": [
        "\n",
        "import pandas as pd\n",
        "import matplotlib.pyplot as plt\n",
        "import numpy as np\n",
        "\n",
        "\n",
        "ds = pd.read_csv('assets/real_estate.csv', sep=';')\n",
        "\n",
        "cinturon_sur =[\"Fuenlabrada\", \"Leganes\", \"Getafe\", \"Alcorcon\"]\n",
        "\n",
        "cs= ds[ds[\"level5\"].isin(cinturon_sur)]\n",
        "fig = plt.figure(figsize=(12, 8))\n",
        "\n",
        "for i, ciudad in enumerate(cinturon_sur, start=1):\n",
        "    precios = cs[cs[\"level5\"] == ciudad][\"price\"]\n",
        "    \n",
        "    ax = fig.add_subplot(2, 2, i) \n",
        "    ax.hist(precios, bins=15, color='skyblue', edgecolor='black')\n",
        "    ax.set_xlabel(\"Precio\")\n",
        "    ax.set_ylabel(\"Frecuencia\")\n",
        "    ax.grid(True)\n",
        " \n",
        "plt.show()\n",
        "\n",
        "#muchas dudas con este ejercicio el grafico no se si esta bien. "
      ]
    },
    {
      "attachments": {},
      "cell_type": "markdown",
      "id": "precise-heavy",
      "metadata": {},
      "source": [
        "**TODO: Markdown**. Para escribir aquí, haz doble clic en esta celda, elimina este contenido y coloca lo que quieras escribir. Luego ejecuta la celda."
      ]
    },
    {
      "attachments": {},
      "cell_type": "markdown",
      "id": "patent-jonathan",
      "metadata": {},
      "source": [
        "#### Ejercicio 19. ¿Qué puedes decir sobre el precio por metro cuadrado (precio/m2) entre los municipios de 'Getafe' y 'Alcorcón'? Debes usar el subconjunto obtenido en la pregunta 14 (★★☆)\n",
        "\n",
        "Pista: Crea una nueva columna llamada `pps` (price per square en inglés) y luego analiza los valores"
      ]
    },
    {
      "cell_type": "code",
      "execution_count": 40,
      "id": "initial-liverpool",
      "metadata": {},
      "outputs": [
        {
          "name": "stdout",
          "output_type": "stream",
          "text": [
            "       level5   price  surface          pps\n",
            "169    Getafe  290000    195.0  1487.179487\n",
            "232    Getafe  137400     65.0  2113.846154\n",
            "233    Getafe  135500     83.0  1632.530120\n",
            "269    Getafe   99900     62.0  1611.290323\n",
            "381    Getafe  455000    280.0  1625.000000\n",
            "...       ...     ...      ...          ...\n",
            "14999  Getafe  365000    210.0  1738.095238\n",
            "15002  Getafe  284491    122.0  2331.893443\n",
            "15034  Getafe  447000    137.0  3262.773723\n",
            "15087  Getafe  356160    115.0  3097.043478\n",
            "15117  Getafe  412500    140.0  2946.428571\n",
            "\n",
            "[290 rows x 4 columns]\n"
          ]
        },
        {
          "name": "stderr",
          "output_type": "stream",
          "text": [
            "/tmp/ipykernel_765/1194994311.py:9: SettingWithCopyWarning: \n",
            "A value is trying to be set on a copy of a slice from a DataFrame.\n",
            "Try using .loc[row_indexer,col_indexer] = value instead\n",
            "\n",
            "See the caveats in the documentation: https://pandas.pydata.org/pandas-docs/stable/user_guide/indexing.html#returning-a-view-versus-a-copy\n",
            "  df_filtrado[\"pps\"] = df_filtrado[\"price\"] / df_filtrado[\"surface\"]\n"
          ]
        }
      ],
      "source": [
        "import pandas as pd\n",
        "import matplotlib.pyplot as plt\n",
        "import numpy as np\n",
        "\n",
        "ds = pd.read_csv('assets/real_estate.csv', sep=';')\n",
        "\n",
        "ciudades = [\"Getafe\", \"Alcorcon\"]\n",
        "df_filtrado = ds[ds[\"level5\"].isin(ciudades)]\n",
        "df_filtrado[\"pps\"] = df_filtrado[\"price\"] / df_filtrado[\"surface\"]\n",
        "print(df_filtrado[[\"level5\", \"price\", \"surface\", \"pps\"]])\n",
        "\n",
        "\n",
        "\n",
        "\n",
        "\n",
        "\n"
      ]
    },
    {
      "attachments": {},
      "cell_type": "markdown",
      "id": "enhanced-moscow",
      "metadata": {},
      "source": [
        "#### Ejercicio 20. Realiza el mismo gráfico para 4 poblaciones diferentes (columna level5) y colócalos en el mismo gráfico. Debes usar el subconjunto obtenido en la pregunta 14 (★★☆) \n",
        "Pista: Haz un diagrama de dispersión de cada población usando subgráficos (subplots)."
      ]
    },
    {
      "cell_type": "code",
      "execution_count": 42,
      "id": "accepting-airfare",
      "metadata": {},
      "outputs": [
        {
          "data": {
            "image/png": "[encoded data removed]",
            "text/plain": [
              "<Figure size 640x480 with 1 Axes>"
            ]
          },
          "metadata": {},
          "output_type": "display_data"
        },
        {
          "data": {
            "image/png": "[encoded data removed]",
            "text/plain": [
              "<Figure size 640x480 with 1 Axes>"
            ]
          },
          "metadata": {},
          "output_type": "display_data"
        },
        {
          "data": {
            "image/png": "[encoded data removed]",
            "text/plain": [
              "<Figure size 640x480 with 1 Axes>"
            ]
          },
          "metadata": {},
          "output_type": "display_data"
        },
        {
          "data": {
            "image/png": "[encoded data removed]",
            "text/plain": [
              "<Figure size 640x480 with 1 Axes>"
            ]
          },
          "metadata": {},
          "output_type": "display_data"
        }
      ],
      "source": [
        "import pandas as pd\n",
        "import matplotlib.pyplot as plt\n",
        "import numpy as np\n",
        "\n",
        "\n",
        "ds = pd.read_csv('assets/real_estate.csv', sep=';')\n",
        "cinturon_sur =[\"Fuenlabrada\", \"Leganes\", \"Getafe\", \"Alcorcon\"]\n",
        "\n",
        "filtro = ds[ds[\"level5\"].isin(cinturon_sur)]\n",
        "superficie_media = filtro.groupby(\"level5\")[\"surface\"].mean()\n",
        "\n",
        "for ciudad in cinturon_sur:\n",
        "    data = filtro[filtro[\"level5\"] == ciudad]\n",
        "    \n",
        "    plt.hist(data[\"surface\"], bins=15, color='skyblue', edgecolor='black')\n",
        "    \n",
        "    # Añadir títulos y etiquetas\n",
        "    plt.xlabel(\"Superficie (m²)\")\n",
        "    plt.ylabel(\"Frecuencia\")\n",
        "    plt.grid(True)\n",
        "    \n",
        "    plt.show()\n",
        "\n",
        "\n",
        "\n"
      ]
    },
    {
      "attachments": {},
      "cell_type": "markdown",
      "id": "blocked-effects",
      "metadata": {},
      "source": [
        "#### Ejercicio 21. Realiza un trazado de las coordenadas (columnas latitud y longitud) del cinturón sur de Madrid por color de cada población (debes usar el subconjunto obtenido del Ejercicio 14) (★★★★)\n",
        "\n",
        "Ejecuta la siguiente celda y luego comienza a codear en la siguiente. Debes implementar un código simple que transforme las columnas de coordenadas en un diccionario de Python (agrega más información si es necesario) y agrégala al mapa."
      ]
    },
    {
      "cell_type": "code",
      "execution_count": null,
      "id": "headed-privacy",
      "metadata": {},
      "outputs": [
        {
          "ename": "NameError",
          "evalue": "name 'MarkerCluster' is not defined",
          "output_type": "error",
          "traceback": [
            "\u001b[31m---------------------------------------------------------------------------\u001b[39m",
            "\u001b[31mNameError\u001b[39m                                 Traceback (most recent call last)",
            "\u001b[36mCell\u001b[39m\u001b[36m \u001b[39m\u001b[32mIn[43]\u001b[39m\u001b[32m, line 23\u001b[39m\n\u001b[32m     14\u001b[39m colores = {\n\u001b[32m     15\u001b[39m     \u001b[33m\"\u001b[39m\u001b[33mFuenlabrada\u001b[39m\u001b[33m\"\u001b[39m: \u001b[33m\"\u001b[39m\u001b[33mred\u001b[39m\u001b[33m\"\u001b[39m,\n\u001b[32m     16\u001b[39m     \u001b[33m\"\u001b[39m\u001b[33mLeganes\u001b[39m\u001b[33m\"\u001b[39m: \u001b[33m\"\u001b[39m\u001b[33mblue\u001b[39m\u001b[33m\"\u001b[39m,\n\u001b[32m     17\u001b[39m     \u001b[33m\"\u001b[39m\u001b[33mGetafe\u001b[39m\u001b[33m\"\u001b[39m: \u001b[33m\"\u001b[39m\u001b[33mgreen\u001b[39m\u001b[33m\"\u001b[39m,\n\u001b[32m     18\u001b[39m     \u001b[33m\"\u001b[39m\u001b[33mAlcorcon\u001b[39m\u001b[33m\"\u001b[39m: \u001b[33m\"\u001b[39m\u001b[33mpurple\u001b[39m\u001b[33m\"\u001b[39m\n\u001b[32m     19\u001b[39m }\n\u001b[32m     21\u001b[39m \u001b[38;5;28mmap\u001b[39m = Map(center=(\u001b[32m40.35\u001b[39m, -\u001b[32m3.8\u001b[39m), zoom=\u001b[32m11.5\u001b[39m, min_zoom=\u001b[32m1\u001b[39m, max_zoom=\u001b[32m20\u001b[39m, basemap=basemaps.OpenStreetMap.Mapnik)\n\u001b[32m---> \u001b[39m\u001b[32m23\u001b[39m marker_cluster = \u001b[43mMarkerCluster\u001b[49m()\n\u001b[32m     25\u001b[39m \u001b[38;5;28;01mfor\u001b[39;00m index, row \u001b[38;5;129;01min\u001b[39;00m filtro.iterrows():\n\u001b[32m     26\u001b[39m     lat = row[\u001b[33m\"\u001b[39m\u001b[33mlatitude\u001b[39m\u001b[33m\"\u001b[39m]\n",
            "\u001b[31mNameError\u001b[39m: name 'MarkerCluster' is not defined"
          ]
        }
      ],
      "source": [
        "from ipyleaflet import Map, basemaps\n",
        "\n",
        "# Mapa centrado en Madrid\n",
        "map = Map(center = (40.35, -3.8), zoom = 11.5, min_zoom = 1, max_zoom = 20, \n",
        "    basemap=basemaps.OpenStreetMap.Mapnik)\n",
        "map\n",
        "\n",
        "\n",
        "\n",
        "\n"
      ]
    },
    {
      "cell_type": "code",
      "execution_count": 4,
      "id": "present-mistress",
      "metadata": {},
      "outputs": [],
      "source": [
        "import pandas as pd\n",
        "from ipyleaflet import Map, basemaps, Marker, Popup\n",
        "from ipywidgets import Label\n",
        "\n",
        "ds = pd.read_csv('assets/real_estate.csv', sep=';')\n",
        "\n",
        "cinturon_sur = ds[ds['level5'].isin(['Fuenlabrada', 'Leganés', 'Getafe', 'Alcorcón'])]\n",
        "\n",
        "coordenadas = []\n",
        "for index, row in cinturon_sur.iterrows():\n",
        "    poblacion = row['level5']\n",
        "    latitud = row['latitude']\n",
        "    longitud = row['longitude']\n",
        "    coordenadas.append({\n",
        "        'poblacion': poblacion,\n",
        "        'latitud': latitud,\n",
        "        'longitud': longitud\n",
        "        })\n",
        "\n",
        "\n",
        "map = Map(center=(40.35, -3.8), zoom=11.5, min_zoom=1, max_zoom=20, \n",
        "          basemap=basemaps.OpenStreetMap.Mapnik)\n",
        "\n",
        "\n",
        "colores = {\n",
        "    'Fuenlabrada': 'indigo',\n",
        "    'Leganés': 'darkblue',\n",
        "    'Getafe': 'darkgreen',\n",
        "    'Alcorcón': 'darkred'\n",
        "}\n",
        "\n",
        "for coord in coordenadas: \n",
        "    poblacion = coord['poblacion']\n",
        "    lat = float(coord['latitud'].replace(',', '.')) \n",
        "    lon = float(coord['longitud'].replace(',', '.'))\n",
        "\n",
        "    marker = Marker(location=(lat, lon), draggable=False)\n",
        "   \n",
        "\n",
        "#muy liado este ejercicio no se me dan bien los graficos hahahaha pedire ayuda.\n"
      ]
    }
  ],
  "metadata": {
    "kernelspec": {
      "display_name": "Python 3",
      "language": "python",
      "name": "python3"
    },
    "language_info": {
      "codemirror_mode": {
        "name": "ipython",
        "version": 3
      },
      "file_extension": ".py",
      "mimetype": "text/x-python",
      "name": "python",
      "nbconvert_exporter": "python",
      "pygments_lexer": "ipython3",
      "version": "3.11.4"
    }
  },
  "nbformat": 4,
  "nbformat_minor": 5
}
